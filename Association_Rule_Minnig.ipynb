{
  "nbformat": 4,
  "nbformat_minor": 0,
  "metadata": {
    "colab": {
      "provenance": [],
      "authorship_tag": "ABX9TyOk7++vNU2DN6Yp5fH++xIy",
      "include_colab_link": true
    },
    "kernelspec": {
      "name": "python3",
      "display_name": "Python 3"
    },
    "language_info": {
      "name": "python"
    }
  },
  "cells": [
    {
      "cell_type": "markdown",
      "metadata": {
        "id": "view-in-github",
        "colab_type": "text"
      },
      "source": [
        "<a href=\"https://colab.research.google.com/github/nischal4758/-Association-Rule-Mining-/blob/main/Association_Rule_Minnig.ipynb\" target=\"_parent\"><img src=\"https://colab.research.google.com/assets/colab-badge.svg\" alt=\"Open In Colab\"/></a>"
      ]
    },
    {
      "cell_type": "code",
      "source": [
        "import pandas as pd\n",
        "from mlxtend.preprocessing import TransactionEncoder\n",
        "from mlxtend.frequent_patterns import apriori, association_rules\n",
        "transactions = [\n",
        "    ['Milk', 'Egg', 'Bread', 'Butter'],\n",
        "    ['Milk', 'Butter', 'Egg', 'Ketchup'],\n",
        "    ['Bread', 'Butter', 'Ketchup'],\n",
        "    ['Milk', 'Bread', 'Butter'],\n",
        "    ['Bread', 'Butter', 'Cookies'],\n",
        "    ['Milk', 'Bread', 'Butter', 'Cookies'],\n",
        "    ['Milk', 'Cookies'],\n",
        "    ['Milk', 'Bread', 'Butter'],\n",
        "    ['Bread', 'Butter', 'Egg', 'Cookies'],\n",
        "    ['Milk', 'Butter', 'Bread'],\n",
        "    ['Milk', 'Bread', 'Butter'],\n",
        "    ['Milk', 'Bread', 'Cookies', 'Ketchup']\n",
        "]"
      ],
      "metadata": {
        "id": "yW24rYrybU-W"
      },
      "execution_count": null,
      "outputs": []
    },
    {
      "cell_type": "code",
      "source": [
        "encoder = TransactionEncoder()\n",
        "encoded_transactions = encoder.fit(transactions).transform(transactions)\n",
        "df = pd.DataFrame(encoded_transactions, columns=encoder.columns_)"
      ],
      "metadata": {
        "id": "vUUJrsjkbVFg"
      },
      "execution_count": null,
      "outputs": []
    },
    {
      "cell_type": "code",
      "source": [],
      "metadata": {
        "id": "iBI4kesGbVJm"
      },
      "execution_count": null,
      "outputs": []
    },
    {
      "cell_type": "code",
      "source": [
        "# Applying the Apriori algorithm with support >=0.33\n",
        "frequent_itemsets = apriori(df, min_support=0.33, use_colnames=True)\n",
        "\n",
        "print(\"Frequent Itemsets:\")\n",
        "print(frequent_itemsets)"
      ],
      "metadata": {
        "colab": {
          "base_uri": "https://localhost:8080/"
        },
        "id": "Dx6sHcO_cMJu",
        "outputId": "543630ae-dbf6-42b0-da98-bb0d55f05ee9"
      },
      "execution_count": null,
      "outputs": [
        {
          "output_type": "stream",
          "name": "stdout",
          "text": [
            "Frequent Itemsets:\n",
            "    support               itemsets\n",
            "0  0.833333                (Bread)\n",
            "1  0.833333               (Butter)\n",
            "2  0.416667              (Cookies)\n",
            "3  0.750000                 (Milk)\n",
            "4  0.750000        (Butter, Bread)\n",
            "5  0.333333       (Bread, Cookies)\n",
            "6  0.583333          (Bread, Milk)\n",
            "7  0.583333         (Butter, Milk)\n",
            "8  0.500000  (Butter, Bread, Milk)\n"
          ]
        }
      ]
    },
    {
      "cell_type": "code",
      "source": [
        "# Generating the association rules with confidence of >=0.5\n",
        "rules = association_rules(frequent_itemsets, metric=\"confidence\", min_threshold=0.5)\n",
        "\n",
        "print(\"Association Rules:\")\n",
        "print(rules[['antecedents', 'consequents', 'support', 'confidence', 'lift']])"
      ],
      "metadata": {
        "colab": {
          "base_uri": "https://localhost:8080/"
        },
        "id": "5vBheDySbVN9",
        "outputId": "b87ab4dd-63ba-4e9d-ae0d-76beae4ae612"
      },
      "execution_count": null,
      "outputs": [
        {
          "output_type": "stream",
          "name": "stdout",
          "text": [
            "Association Rules:\n",
            "        antecedents      consequents   support  confidence      lift\n",
            "0          (Butter)          (Bread)  0.750000    0.900000  1.080000\n",
            "1           (Bread)         (Butter)  0.750000    0.900000  1.080000\n",
            "2         (Cookies)          (Bread)  0.333333    0.800000  0.960000\n",
            "3           (Bread)           (Milk)  0.583333    0.700000  0.933333\n",
            "4            (Milk)          (Bread)  0.583333    0.777778  0.933333\n",
            "5          (Butter)           (Milk)  0.583333    0.700000  0.933333\n",
            "6            (Milk)         (Butter)  0.583333    0.777778  0.933333\n",
            "7   (Bread, Butter)           (Milk)  0.500000    0.666667  0.888889\n",
            "8    (Butter, Milk)          (Bread)  0.500000    0.857143  1.028571\n",
            "9     (Bread, Milk)         (Butter)  0.500000    0.857143  1.028571\n",
            "10         (Butter)    (Bread, Milk)  0.500000    0.600000  1.028571\n",
            "11          (Bread)   (Butter, Milk)  0.500000    0.600000  1.028571\n",
            "12           (Milk)  (Bread, Butter)  0.500000    0.666667  0.888889\n"
          ]
        }
      ]
    },
    {
      "cell_type": "code",
      "source": [],
      "metadata": {
        "id": "GWF2tBlqbVVz"
      },
      "execution_count": null,
      "outputs": []
    },
    {
      "cell_type": "code",
      "source": [
        "import pandas as pd"
      ],
      "metadata": {
        "id": "BFOjPQrzbVmi"
      },
      "execution_count": null,
      "outputs": []
    },
    {
      "cell_type": "code",
      "source": [
        "df = pd.DataFrame({\n",
        "    'Bread':  [1,0,0,1,1,0,1,1,1],\n",
        "    'Butter': [1,1,1,1,0,1,0,1,1],\n",
        "    'Milk':   [0,0,1,0,1,1,0,1,1],\n",
        "    'Coke':   [0,1,0,1,1,1,1,1,0],\n",
        "    'Jam':    [1,0,0,0,0,0,0,1,0]}, index=[f\"T{i+1}\" for i in range(9)])\n",
        "\n",
        "vertical = {item: set(df.index[df[item] == 1]) for item in df.columns}"
      ],
      "metadata": {
        "id": "V921aB0ebXxr"
      },
      "execution_count": null,
      "outputs": []
    },
    {
      "cell_type": "code",
      "source": [
        "def eclat(prefix, items, min_sup, results):\n",
        "    for i, (item, tids) in enumerate(items):\n",
        "        new_prefix = prefix + [item]\n",
        "        support = len(tids)\n",
        "        if support >= min_sup:\n",
        "            results.append((new_prefix, support))\n",
        "            new_items = [\n",
        "                (other_item, tids & other_tids)\n",
        "                for other_item, other_tids in items[i+1:]\n",
        "                if len(tids & other_tids) >= min_sup\n",
        "            ]\n",
        "            eclat(new_prefix, new_items, min_sup, results)"
      ],
      "metadata": {
        "id": "6aR8bh29dGfV"
      },
      "execution_count": null,
      "outputs": []
    },
    {
      "cell_type": "code",
      "source": [
        "min_sup = 2\n",
        "results = []\n",
        "eclat([], list(vertical.items()), min_sup, results)\n",
        "\n",
        "print(f\" Frequent Itemsets using ECLAT (support ≥ {min_sup}):\")\n",
        "for items, sup in results:\n",
        "    print(f\"Items: {items}, Support: {sup}\")"
      ],
      "metadata": {
        "colab": {
          "base_uri": "https://localhost:8080/"
        },
        "id": "5u0jeYyHdGlx",
        "outputId": "ec2dc104-4d0b-4f31-a9a6-df68c4c0a01d"
      },
      "execution_count": null,
      "outputs": [
        {
          "output_type": "stream",
          "name": "stdout",
          "text": [
            " Frequent Itemsets using ECLAT (support ≥ 2):\n",
            "Items: ['Bread'], Support: 6\n",
            "Items: ['Bread', 'Butter'], Support: 4\n",
            "Items: ['Bread', 'Butter', 'Milk'], Support: 2\n",
            "Items: ['Bread', 'Butter', 'Coke'], Support: 2\n",
            "Items: ['Bread', 'Butter', 'Jam'], Support: 2\n",
            "Items: ['Bread', 'Milk'], Support: 3\n",
            "Items: ['Bread', 'Milk', 'Coke'], Support: 2\n",
            "Items: ['Bread', 'Coke'], Support: 4\n",
            "Items: ['Bread', 'Jam'], Support: 2\n",
            "Items: ['Butter'], Support: 7\n",
            "Items: ['Butter', 'Milk'], Support: 4\n",
            "Items: ['Butter', 'Milk', 'Coke'], Support: 2\n",
            "Items: ['Butter', 'Coke'], Support: 4\n",
            "Items: ['Butter', 'Jam'], Support: 2\n",
            "Items: ['Milk'], Support: 5\n",
            "Items: ['Milk', 'Coke'], Support: 3\n",
            "Items: ['Coke'], Support: 6\n",
            "Items: ['Jam'], Support: 2\n"
          ]
        }
      ]
    },
    {
      "cell_type": "markdown",
      "metadata": {
        "id": "b142fe24"
      },
      "source": [
        "# Association Rule Mining"
      ]
    }
  ]
}